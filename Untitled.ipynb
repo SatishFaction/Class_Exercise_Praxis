{
 "cells": [
  {
   "cell_type": "code",
   "execution_count": 1,
   "metadata": {},
   "outputs": [
    {
     "name": "stdout",
     "output_type": "stream",
     "text": [
      "enter the item : 1 apple\n",
      "enter quantity of item: 2\n",
      "enter price of the item:  20\n",
      "enter the item : 2 juice\n",
      "enter quantity of item: 1\n",
      "enter price of the item:  40\n",
      "enter the item : 3 done\n",
      "['apple', 'juice']\n",
      "80.0\n",
      "Next Customer? Yes/Nono\n"
     ]
    }
   ],
   "source": [
    "list1=[]\n",
    "count=0\n",
    "su=0\n",
    "while 1:\n",
    "    count+=1\n",
    "    i=raw_input('enter the item : %d '%count)\n",
    "    if i!='done':\n",
    "        q_item=int(raw_input('enter quantity of item: '))\n",
    "        price=float(raw_input('enter price of the item:  '))\n",
    "        su=su+q_item*price\n",
    "        list1.append(i)\n",
    "        \n",
    "    if i=='done':\n",
    "        print(list1)\n",
    "        print (su)\n",
    "        inp=raw_input('Next Customer? Yes/No')\n",
    "        if inp =='yes':\n",
    "            count=0\n",
    "            list1=[]\n",
    "            continue\n",
    "        elif inp == 'no':\n",
    "            break"
   ]
  },
  {
   "cell_type": "code",
   "execution_count": null,
   "metadata": {},
   "outputs": [],
   "source": []
  }
 ],
 "metadata": {
  "kernelspec": {
   "display_name": "Python 2",
   "language": "python",
   "name": "python2"
  },
  "language_info": {
   "codemirror_mode": {
    "name": "ipython",
    "version": 2
   },
   "file_extension": ".py",
   "mimetype": "text/x-python",
   "name": "python",
   "nbconvert_exporter": "python",
   "pygments_lexer": "ipython2",
   "version": "2.7.16"
  }
 },
 "nbformat": 4,
 "nbformat_minor": 2
}
