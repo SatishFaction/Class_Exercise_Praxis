{
 "cells": [
  {
   "cell_type": "code",
   "execution_count": 1,
   "metadata": {},
   "outputs": [
    {
     "name": "stdout",
     "output_type": "stream",
     "text": [
      "enter the item : 1 apple\n",
      "enter quantity of item: jiuice\n"
     ]
    },
    {
     "ename": "ValueError",
     "evalue": "invalid literal for int() with base 10: 'jiuice'",
     "output_type": "error",
     "traceback": [
      "\u001b[1;31m---------------------------------------------------------------------------\u001b[0m",
      "\u001b[1;31mValueError\u001b[0m                                Traceback (most recent call last)",
      "\u001b[1;32m<ipython-input-1-92add2fa492a>\u001b[0m in \u001b[0;36m<module>\u001b[1;34m()\u001b[0m\n\u001b[0;32m      6\u001b[0m     \u001b[0mi\u001b[0m\u001b[1;33m=\u001b[0m\u001b[0mraw_input\u001b[0m\u001b[1;33m(\u001b[0m\u001b[1;34m'enter the item : %d '\u001b[0m\u001b[1;33m%\u001b[0m\u001b[0mcount\u001b[0m\u001b[1;33m)\u001b[0m\u001b[1;33m\u001b[0m\u001b[0m\n\u001b[0;32m      7\u001b[0m     \u001b[1;32mif\u001b[0m \u001b[0mi\u001b[0m\u001b[1;33m!=\u001b[0m\u001b[1;34m'done'\u001b[0m\u001b[1;33m:\u001b[0m\u001b[1;33m\u001b[0m\u001b[0m\n\u001b[1;32m----> 8\u001b[1;33m         \u001b[0mq_item\u001b[0m\u001b[1;33m=\u001b[0m\u001b[0mint\u001b[0m\u001b[1;33m(\u001b[0m\u001b[0mraw_input\u001b[0m\u001b[1;33m(\u001b[0m\u001b[1;34m'enter quantity of item: '\u001b[0m\u001b[1;33m)\u001b[0m\u001b[1;33m)\u001b[0m\u001b[1;33m\u001b[0m\u001b[0m\n\u001b[0m\u001b[0;32m      9\u001b[0m         \u001b[0mprice\u001b[0m\u001b[1;33m=\u001b[0m\u001b[0mfloat\u001b[0m\u001b[1;33m(\u001b[0m\u001b[0mraw_input\u001b[0m\u001b[1;33m(\u001b[0m\u001b[1;34m'enter price of the item:  '\u001b[0m\u001b[1;33m)\u001b[0m\u001b[1;33m)\u001b[0m\u001b[1;33m\u001b[0m\u001b[0m\n\u001b[0;32m     10\u001b[0m         \u001b[0msu\u001b[0m\u001b[1;33m=\u001b[0m\u001b[0msu\u001b[0m\u001b[1;33m+\u001b[0m\u001b[0mq_item\u001b[0m\u001b[1;33m*\u001b[0m\u001b[0mprice\u001b[0m\u001b[1;33m\u001b[0m\u001b[0m\n",
      "\u001b[1;31mValueError\u001b[0m: invalid literal for int() with base 10: 'jiuice'"
     ]
    }
   ],
   "source": [
    "list1=[]\n",
    "count=0\n",
    "su=0\n",
    "while 1:\n",
    "    count+=1\n",
    "    i=raw_input('enter the item : %d '%count)\n",
    "    if i!='done':\n",
    "        q_item=int(raw_input('enter quantity of item: '))\n",
    "        price=float(raw_input('enter price of the item:  '))\n",
    "        su=su+q_item*price\n",
    "        list1.append(i)\n",
    "        \n",
    "    if i=='done':\n",
    "        print(list1)\n",
    "        print (su)\n",
    "        inp=raw_input('Next Customer? Yes/No')\n",
    "        if inp =='yes':\n",
    "            count=0\n",
    "            list1=[]\n",
    "            continue\n",
    "        elif inp == 'no':\n",
    "            break"
   ]
  },
  {
   "cell_type": "code",
   "execution_count": 7,
   "metadata": {},
   "outputs": [
    {
     "name": "stdout",
     "output_type": "stream",
     "text": [
      "Enter the number: 123\n",
      "12\n",
      "1\n",
      "0\n",
      "('reverse ', 321)\n"
     ]
    }
   ],
   "source": []
  },
  {
   "cell_type": "markdown",
   "metadata": {},
   "source": [
    "If a five-digit number is input through the keyboard, write a program to calculate the sum of its digits."
   ]
  },
  {
   "cell_type": "code",
   "execution_count": 1,
   "metadata": {},
   "outputs": [
    {
     "name": "stdout",
     "output_type": "stream",
     "text": [
      "Enter a number1234\n",
      "10\n"
     ]
    }
   ],
   "source": [
    "#sum of digits\n",
    "x=int(raw_input(\"Enter a number\"))\n",
    "su=0\n",
    "while x>0:\n",
    "    remainder=x%10\n",
    "    su=su+remainder\n",
    "    x=x/10 \n",
    "print(su)"
   ]
  },
  {
   "cell_type": "code",
   "execution_count": 5,
   "metadata": {},
   "outputs": [
    {
     "name": "stdout",
     "output_type": "stream",
     "text": [
      "Enter a number : 123\n",
      "('The reversed number--->', 321)\n"
     ]
    }
   ],
   "source": [
    "#reversing a number\n",
    "try:\n",
    "    y=int(raw_input(\"Enter a number : \"))\n",
    "    rev=0\n",
    "    if y<0:\n",
    "        y=-y\n",
    "        while y>0:\n",
    "            rem=y%10\n",
    "            rev=rem+(10*rev)\n",
    "            y=y/10\n",
    "        print(\"The reversed number--->\",-rev)\n",
    "    else:\n",
    "        while y>0:\n",
    "            rem=y%10\n",
    "            rev=rem+(10*rev)\n",
    "            y=y/10\n",
    "        print(\"The reversed number--->\",rev)\n",
    "except:\n",
    "    print(\"Invalid Entry\")\n"
   ]
  }
 ],
 "metadata": {
  "kernelspec": {
   "display_name": "Python 2",
   "language": "python",
   "name": "python2"
  },
  "language_info": {
   "codemirror_mode": {
    "name": "ipython",
    "version": 2
   },
   "file_extension": ".py",
   "mimetype": "text/x-python",
   "name": "python",
   "nbconvert_exporter": "python",
   "pygments_lexer": "ipython2",
   "version": "2.7.16"
  }
 },
 "nbformat": 4,
 "nbformat_minor": 2
}
