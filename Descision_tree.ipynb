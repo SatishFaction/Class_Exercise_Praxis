{
 "cells": [
  {
   "cell_type": "code",
   "execution_count": 2,
   "metadata": {},
   "outputs": [],
   "source": [
    "import numpy as np\n",
    "import pandas as pd\n",
    "import os\n",
    "#for test train split of the data\n",
    "from sklearn.model_selection import train_test_split\n",
    "#for fitting a classification tree\n",
    "from sklearn.tree import DecisionTreeClassifier \n",
    "#for fitting a regression tree\n",
    "from sklearn.tree import DecisionTreeRegressor\n",
    "\n",
    "from sklearn.metrics import confusion_matrix\n",
    "from sklearn import tree\n",
    "import statsmodels.api as stm"
   ]
  },
  {
   "cell_type": "code",
   "execution_count": 3,
   "metadata": {},
   "outputs": [
    {
     "data": {
      "text/plain": [
       "Index(['Unnamed: 0', 'Sepal.Length', 'Sepal.Width', 'Petal.Length',\n",
       "       'Petal.Width', 'Species'],\n",
       "      dtype='object')"
      ]
     },
     "execution_count": 3,
     "metadata": {},
     "output_type": "execute_result"
    }
   ],
   "source": [
    "iris=pd.read_csv('iris.csv')\n",
    "iris.head(5)\n",
    "iris.columns"
   ]
  },
  {
   "cell_type": "markdown",
   "metadata": {},
   "source": [
    "###Seperating Target and Predictors"
   ]
  },
  {
   "cell_type": "code",
   "execution_count": 4,
   "metadata": {},
   "outputs": [],
   "source": [
    "X=iris[['Sepal.Length','Sepal.Width','Petal.Length','Petal.Width']]\n",
    "Y=iris[['Species']]"
   ]
  },
  {
   "cell_type": "code",
   "execution_count": 5,
   "metadata": {},
   "outputs": [],
   "source": [
    "X_train,X_test,Y_train,Y_test=train_test_split(X,Y,test_size=0.3,stratify=Y,random_state=100)\n",
    "#"
   ]
  },
  {
   "cell_type": "code",
   "execution_count": 6,
   "metadata": {},
   "outputs": [
    {
     "data": {
      "text/plain": [
       "versicolor    0.333333\n",
       "virginica     0.333333\n",
       "setosa        0.333333\n",
       "Name: Species, dtype: float64"
      ]
     },
     "execution_count": 6,
     "metadata": {},
     "output_type": "execute_result"
    }
   ],
   "source": [
    "Y_train.Species.value_counts()/len(Y_train)"
   ]
  },
  {
   "cell_type": "code",
   "execution_count": 6,
   "metadata": {},
   "outputs": [
    {
     "data": {
      "text/plain": [
       "DecisionTreeClassifier(ccp_alpha=0.0, class_weight=None, criterion='gini',\n",
       "                       max_depth=3, max_features=None, max_leaf_nodes=None,\n",
       "                       min_impurity_decrease=0.0, min_impurity_split=None,\n",
       "                       min_samples_leaf=5, min_samples_split=2,\n",
       "                       min_weight_fraction_leaf=0.0, presort='deprecated',\n",
       "                       random_state=100, splitter='best')"
      ]
     },
     "execution_count": 6,
     "metadata": {},
     "output_type": "execute_result"
    }
   ],
   "source": [
    "clf_gini= DecisionTreeClassifier(criterion ='gini',random_state=100,max_depth=3,min_samples_leaf=5)\n",
    "clf_gini.fit(X_train,Y_train)"
   ]
  },
  {
   "cell_type": "code",
   "execution_count": 7,
   "metadata": {},
   "outputs": [],
   "source": [
    "import graphviz\n"
   ]
  },
  {
   "cell_type": "code",
   "execution_count": 8,
   "metadata": {},
   "outputs": [
    {
     "data": {
      "text/plain": [
       "[Text(125.55000000000001, 190.26, 'X[2] <= 2.5\\ngini = 0.667\\nsamples = 105\\nvalue = [35, 35, 35]'),\n",
       " Text(83.7, 135.9, 'gini = 0.0\\nsamples = 35\\nvalue = [35, 0, 0]'),\n",
       " Text(167.4, 135.9, 'X[3] <= 1.65\\ngini = 0.5\\nsamples = 70\\nvalue = [0, 35, 35]'),\n",
       " Text(83.7, 81.53999999999999, 'X[2] <= 4.75\\ngini = 0.057\\nsamples = 34\\nvalue = [0, 33, 1]'),\n",
       " Text(41.85, 27.180000000000007, 'gini = 0.0\\nsamples = 29\\nvalue = [0, 29, 0]'),\n",
       " Text(125.55000000000001, 27.180000000000007, 'gini = 0.32\\nsamples = 5\\nvalue = [0, 4, 1]'),\n",
       " Text(251.10000000000002, 81.53999999999999, 'X[2] <= 5.05\\ngini = 0.105\\nsamples = 36\\nvalue = [0, 2, 34]'),\n",
       " Text(209.25, 27.180000000000007, 'gini = 0.408\\nsamples = 7\\nvalue = [0, 2, 5]'),\n",
       " Text(292.95, 27.180000000000007, 'gini = 0.0\\nsamples = 29\\nvalue = [0, 0, 29]')]"
      ]
     },
     "execution_count": 8,
     "metadata": {},
     "output_type": "execute_result"
    },
    {
     "data": {
      "image/png": "[encoded data removed]",
      "text/plain": [
       "<Figure size 432x288 with 1 Axes>"
      ]
     },
     "metadata": {
      "needs_background": "light"
     },
     "output_type": "display_data"
    }
   ],
   "source": [
    "tree.plot_tree(clf_gini)"
   ]
  },
  {
   "cell_type": "code",
   "execution_count": 9,
   "metadata": {},
   "outputs": [],
   "source": [
    "G=tree.export_graphviz(clf_gini,out_file=None)\n",
    "graph=graphviz.Source(G)\n",
    "#graph.render()"
   ]
  },
  {
   "cell_type": "code",
   "execution_count": 10,
   "metadata": {},
   "outputs": [
    {
     "data": {
      "text/plain": [
       "DecisionTreeClassifier(ccp_alpha=0.0, class_weight=None, criterion='gini',\n",
       "                       max_depth=3, max_features=None, max_leaf_nodes=None,\n",
       "                       min_impurity_decrease=0.0, min_impurity_split=None,\n",
       "                       min_samples_leaf=5, min_samples_split=2,\n",
       "                       min_weight_fraction_leaf=0.0, presort=False,\n",
       "                       random_state=100, splitter='best')"
      ]
     },
     "execution_count": 10,
     "metadata": {},
     "output_type": "execute_result"
    }
   ],
   "source": [
    "DecisionTreeClassifier(class_weight=None , criterion = \"gini\", max_depth=3,\n",
    "                      max_features=None, max_leaf_nodes = None, min_samples_leaf =5,\n",
    "                      min_samples_split=2, min_weight_fraction_leaf=0.0,\n",
    "                      presort =False,random_state=100 , splitter ='best')"
   ]
  },
  {
   "cell_type": "code",
   "execution_count": 11,
   "metadata": {},
   "outputs": [
    {
     "data": {
      "text/plain": [
       "array(['setosa', 'versicolor', 'virginica', 'versicolor', 'virginica',\n",
       "       'setosa', 'versicolor', 'setosa', 'setosa', 'setosa', 'versicolor',\n",
       "       'versicolor', 'versicolor', 'setosa', 'versicolor', 'virginica',\n",
       "       'virginica', 'virginica', 'versicolor', 'versicolor', 'virginica',\n",
       "       'versicolor', 'versicolor', 'virginica', 'versicolor', 'setosa',\n",
       "       'versicolor', 'versicolor', 'setosa', 'virginica', 'virginica',\n",
       "       'virginica', 'versicolor', 'setosa', 'versicolor', 'virginica',\n",
       "       'setosa', 'setosa', 'setosa', 'versicolor', 'setosa', 'setosa',\n",
       "       'setosa', 'versicolor', 'virginica'], dtype=object)"
      ]
     },
     "execution_count": 11,
     "metadata": {},
     "output_type": "execute_result"
    }
   ],
   "source": [
    "y_pred=clf_gini.predict(X_test)\n",
    "y_pred"
   ]
  },
  {
   "cell_type": "code",
   "execution_count": 12,
   "metadata": {},
   "outputs": [
    {
     "data": {
      "text/plain": [
       "array([[15,  0,  0],\n",
       "       [ 0, 15,  0],\n",
       "       [ 0,  3, 12]], dtype=int64)"
      ]
     },
     "execution_count": 12,
     "metadata": {},
     "output_type": "execute_result"
    }
   ],
   "source": [
    "c=confusion_matrix(Y_test,y_pred)\n",
    "c"
   ]
  },
  {
   "cell_type": "markdown",
   "metadata": {},
   "source": [
    "###Regression Tree\n"
   ]
  },
  {
   "cell_type": "code",
   "execution_count": 13,
   "metadata": {},
   "outputs": [],
   "source": [
    "cars=pd.read_csv('cars.csv')\n"
   ]
  },
  {
   "cell_type": "code",
   "execution_count": 14,
   "metadata": {},
   "outputs": [],
   "source": [
    "X=cars[['Cylinders','Weight','Horsepower']]\n",
    "Y=cars[['MPG']]"
   ]
  },
  {
   "cell_type": "code",
   "execution_count": 15,
   "metadata": {},
   "outputs": [],
   "source": [
    "X_train,X_test,Y_train,Y_test=train_test_split(X,Y,test_size=0.3,random_state=100)"
   ]
  },
  {
   "cell_type": "code",
   "execution_count": 16,
   "metadata": {},
   "outputs": [
    {
     "data": {
      "text/plain": [
       "DecisionTreeRegressor(ccp_alpha=0.0, criterion='mse', max_depth=3,\n",
       "                      max_features=None, max_leaf_nodes=None,\n",
       "                      min_impurity_decrease=0.0, min_impurity_split=None,\n",
       "                      min_samples_leaf=5, min_samples_split=2,\n",
       "                      min_weight_fraction_leaf=0.0, presort='deprecated',\n",
       "                      random_state=None, splitter='best')"
      ]
     },
     "execution_count": 16,
     "metadata": {},
     "output_type": "execute_result"
    }
   ],
   "source": [
    "model=DecisionTreeRegressor(max_depth=3,min_samples_leaf=5)\n",
    "model.fit(X_train,Y_train)"
   ]
  },
  {
   "cell_type": "code",
   "execution_count": 17,
   "metadata": {},
   "outputs": [
    {
     "data": {
      "text/plain": [
       "array([19.2483871 , 32.89833333, 25.4452381 , 25.4452381 , 25.74545455,\n",
       "       25.4452381 , 19.2483871 , 25.4452381 , 19.2483871 , 25.4452381 ,\n",
       "       32.89833333, 11.7       , 11.7       , 32.89833333, 25.4452381 ,\n",
       "       25.4452381 , 28.51071429, 19.2483871 , 25.74545455, 25.4452381 ,\n",
       "       25.4452381 , 25.4452381 , 25.4452381 , 28.51071429, 19.2483871 ,\n",
       "       15.12564103, 19.2483871 , 19.2483871 , 25.4452381 , 32.89833333,\n",
       "       19.2483871 , 19.2483871 , 25.74545455, 32.89833333, 15.12564103,\n",
       "       32.89833333, 19.2483871 , 25.4452381 , 19.2483871 , 11.7       ,\n",
       "       25.74545455, 32.89833333, 19.2483871 , 19.2483871 , 32.89833333,\n",
       "       25.4452381 , 15.12564103, 32.89833333, 25.4452381 , 19.2483871 ,\n",
       "       32.89833333, 28.91111111, 25.74545455, 11.7       , 11.7       ,\n",
       "       19.2483871 , 11.7       , 32.89833333, 19.2483871 , 15.12564103,\n",
       "       19.2483871 , 19.2483871 , 32.89833333, 19.2483871 , 19.2483871 ,\n",
       "       25.4452381 , 32.89833333, 32.89833333, 32.89833333, 32.89833333,\n",
       "       32.89833333, 19.2483871 , 15.12564103, 19.2483871 , 25.4452381 ,\n",
       "       32.89833333, 11.7       , 25.74545455, 15.12564103, 32.89833333,\n",
       "       19.2483871 , 25.74545455, 28.91111111, 11.7       , 25.4452381 ,\n",
       "       32.89833333, 11.7       , 11.7       , 25.74545455, 11.7       ,\n",
       "       11.7       , 28.51071429, 11.7       , 19.2483871 , 25.4452381 ,\n",
       "       32.89833333, 19.2483871 , 15.12564103, 15.12564103, 28.51071429,\n",
       "       32.89833333, 32.89833333, 15.12564103, 28.91111111, 11.7       ,\n",
       "       15.12564103, 15.12564103, 25.4452381 , 19.2483871 , 32.89833333,\n",
       "       15.12564103, 25.4452381 , 11.7       , 25.74545455, 11.7       ,\n",
       "       28.51071429, 32.89833333, 19.2483871 , 28.51071429, 28.51071429,\n",
       "       15.12564103, 19.2483871 ])"
      ]
     },
     "execution_count": 17,
     "metadata": {},
     "output_type": "execute_result"
    }
   ],
   "source": [
    "y_pred=model.predict(X_test)\n",
    "y_pred"
   ]
  },
  {
   "cell_type": "code",
   "execution_count": 18,
   "metadata": {},
   "outputs": [
    {
     "data": {
      "text/plain": [
       "pandas.core.frame.DataFrame"
      ]
     },
     "execution_count": 18,
     "metadata": {},
     "output_type": "execute_result"
    }
   ],
   "source": [
    "type(Y_test)"
   ]
  },
  {
   "cell_type": "code",
   "execution_count": 26,
   "metadata": {},
   "outputs": [
    {
     "data": {
      "text/plain": [
       "numpy.ndarray"
      ]
     },
     "execution_count": 26,
     "metadata": {},
     "output_type": "execute_result"
    }
   ],
   "source": [
    "type(y_pred)\n"
   ]
  },
  {
   "cell_type": "code",
   "execution_count": 27,
   "metadata": {},
   "outputs": [
    {
     "ename": "AttributeError",
     "evalue": "'numpy.ndarray' object has no attribute 'tocsv'",
     "output_type": "error",
     "traceback": [
      "\u001b[1;31m---------------------------------------------------------------------------\u001b[0m",
      "\u001b[1;31mAttributeError\u001b[0m                            Traceback (most recent call last)",
      "\u001b[1;32m<ipython-input-27-a8fa53069418>\u001b[0m in \u001b[0;36m<module>\u001b[1;34m\u001b[0m\n\u001b[1;32m----> 1\u001b[1;33m \u001b[0my_pred\u001b[0m\u001b[1;33m.\u001b[0m\u001b[0mtocsv\u001b[0m\u001b[1;33m(\u001b[0m\u001b[1;33m)\u001b[0m\u001b[1;33m\u001b[0m\u001b[1;33m\u001b[0m\u001b[0m\n\u001b[0m",
      "\u001b[1;31mAttributeError\u001b[0m: 'numpy.ndarray' object has no attribute 'tocsv'"
     ]
    }
   ],
   "source": [
    "y_pred.tocsv()"
   ]
  },
  {
   "cell_type": "code",
   "execution_count": 20,
   "metadata": {},
   "outputs": [
    {
     "data": {
      "text/plain": [
       "10.255870838812472"
      ]
     },
     "execution_count": 20,
     "metadata": {},
     "output_type": "execute_result"
    }
   ],
   "source": [
    "#RMSE\n",
    "np.sqrt(np.mean((np.array(Y_test)-y_pred)**2))"
   ]
  },
  {
   "cell_type": "markdown",
   "metadata": {},
   "source": [
    "Fitting a regression for cars data"
   ]
  },
  {
   "cell_type": "code",
   "execution_count": 21,
   "metadata": {},
   "outputs": [],
   "source": [
    "A=X_train\n",
    "B=X_test\n",
    "A=stm.add_constant(A)\n",
    "B=stm.add_constant(B)"
   ]
  },
  {
   "cell_type": "code",
   "execution_count": 22,
   "metadata": {},
   "outputs": [
    {
     "data": {
      "text/plain": [
       "const         45.960340\n",
       "Cylinders     -0.277104\n",
       "Weight        -0.005368\n",
       "Horsepower    -0.052722\n",
       "dtype: float64"
      ]
     },
     "execution_count": 22,
     "metadata": {},
     "output_type": "execute_result"
    }
   ],
   "source": [
    "M=stm.OLS(Y_train,A).fit()\n",
    "M.params"
   ]
  },
  {
   "cell_type": "code",
   "execution_count": 23,
   "metadata": {},
   "outputs": [
    {
     "data": {
      "text/plain": [
       "pandas.core.series.Series"
      ]
     },
     "execution_count": 23,
     "metadata": {},
     "output_type": "execute_result"
    }
   ],
   "source": [
    "pre=M.predict(B)\n",
    "\n",
    "type(Y_test)\n",
    "type(pre)"
   ]
  },
  {
   "cell_type": "code",
   "execution_count": 24,
   "metadata": {},
   "outputs": [
    {
     "data": {
      "text/plain": [
       "9.999811276475763"
      ]
     },
     "execution_count": 24,
     "metadata": {},
     "output_type": "execute_result"
    }
   ],
   "source": [
    "np.sqrt(np.mean((np.array(Y_test)-np.array(pre))**2))\n"
   ]
  }
 ],
 "metadata": {
  "kernelspec": {
   "display_name": "Python 3",
   "language": "python",
   "name": "python3"
  },
  "language_info": {
   "codemirror_mode": {
    "name": "ipython",
    "version": 3
   },
   "file_extension": ".py",
   "mimetype": "text/x-python",
   "name": "python",
   "nbconvert_exporter": "python",
   "pygments_lexer": "ipython3",
   "version": "3.7.6"
  }
 },
 "nbformat": 4,
 "nbformat_minor": 4
}
