{
 "cells": [
  {
   "cell_type": "markdown",
   "metadata": {},
   "source": [
    "## Dictionaries"
   ]
  },
  {
   "cell_type": "markdown",
   "metadata": {
    "collapsed": true
   },
   "source": [
    "A dictionary is like a list, but more general. In a list, the positions (a.k.a. indices) have to be integers; in a dictionary the indices can be (almost) any type.\n",
    "\n",
    "You can think of a dictionary as a mapping between a set of indices (which are called keys) and a set of values. Each key maps to a value. The association of a key and a value is called a key-value pair or sometimes an item"
   ]
  },
  {
   "cell_type": "markdown",
   "metadata": {},
   "source": [
    "### An Example of Dictionary"
   ]
  },
  {
   "cell_type": "markdown",
   "metadata": {},
   "source": [
    "Let us build a dictionary that maps English to Spanish words. In this dictionary the keys will be some english words and their corresponding values will be the corresponding spanish words"
   ]
  },
  {
   "cell_type": "code",
   "execution_count": 2,
   "metadata": {},
   "outputs": [],
   "source": [
    "eng2sp = {'one': 'uno', 'two': 'dos', 'three': 'tres'}"
   ]
  },
  {
   "cell_type": "code",
   "execution_count": 3,
   "metadata": {},
   "outputs": [
    {
     "data": {
      "text/plain": [
       "{'one': 'uno', 'three': 'tres', 'two': 'dos'}"
      ]
     },
     "execution_count": 3,
     "metadata": {},
     "output_type": "execute_result"
    }
   ],
   "source": [
    "eng2sp"
   ]
  },
  {
   "cell_type": "code",
   "execution_count": 4,
   "metadata": {},
   "outputs": [
    {
     "data": {
      "text/plain": [
       "dict"
      ]
     },
     "execution_count": 4,
     "metadata": {},
     "output_type": "execute_result"
    }
   ],
   "source": [
    "type(eng2sp)"
   ]
  },
  {
   "cell_type": "code",
   "execution_count": 3,
   "metadata": {},
   "outputs": [
    {
     "data": {
      "text/plain": [
       "{1.01: 'one', 'list': [1, 2, 3], 'two': 2}"
      ]
     },
     "execution_count": 3,
     "metadata": {},
     "output_type": "execute_result"
    }
   ],
   "source": [
    "dic = {1.01:'one', 'two':2, 'list':[1,2,3]}\n",
    "dic"
   ]
  },
  {
   "cell_type": "code",
   "execution_count": 9,
   "metadata": {},
   "outputs": [
    {
     "data": {
      "text/plain": [
       "{'a', 'b', 'c', 'd'}"
      ]
     },
     "execution_count": 9,
     "metadata": {},
     "output_type": "execute_result"
    }
   ],
   "source": [
    "a={'a','b','c','c','d'}\n",
    "a\n",
    "#sets are used for unique values"
   ]
  },
  {
   "cell_type": "markdown",
   "metadata": {},
   "source": [
    "**Note:** \n",
    "\n",
    "* A dictionary is created using a curly bracket\n",
    "\n",
    "* The values in a dictionary are indexed by keys. The keys are needed to be specified while creating a dictionary. \n",
    "\n",
    "* As an example, 'one':'uno' represents a key-value pair."
   ]
  },
  {
   "cell_type": "markdown",
   "metadata": {},
   "source": [
    "*What if we enclose some values (separated by commas) in a curly bracket? What type of object do we get?*\n",
    "\n",
    "* *A dictionary with only keys.*\n",
    "* *A dictionary with elements indexed by integer*\n",
    "* *This object is not a dictionary*"
   ]
  },
  {
   "cell_type": "code",
   "execution_count": 11,
   "metadata": {},
   "outputs": [],
   "source": [
    "p = {1,2,3,4}"
   ]
  },
  {
   "cell_type": "code",
   "execution_count": 12,
   "metadata": {},
   "outputs": [
    {
     "data": {
      "text/plain": [
       "set"
      ]
     },
     "execution_count": 12,
     "metadata": {},
     "output_type": "execute_result"
    }
   ],
   "source": [
    "type(p)"
   ]
  },
  {
   "cell_type": "code",
   "execution_count": 13,
   "metadata": {},
   "outputs": [
    {
     "data": {
      "text/plain": [
       "{1.9: 'one point nine', 5: 25, 'key': 200}"
      ]
     },
     "execution_count": 13,
     "metadata": {},
     "output_type": "execute_result"
    }
   ],
   "source": [
    "d={'key':200,1.9:'one point nine',5:25}\n",
    "d"
   ]
  },
  {
   "cell_type": "code",
   "execution_count": null,
   "metadata": {},
   "outputs": [],
   "source": []
  },
  {
   "cell_type": "markdown",
   "metadata": {},
   "source": [
    "### Retrieving elements from a dictionary"
   ]
  },
  {
   "cell_type": "code",
   "execution_count": 14,
   "metadata": {},
   "outputs": [
    {
     "data": {
      "text/plain": [
       "'uno'"
      ]
     },
     "execution_count": 14,
     "metadata": {},
     "output_type": "execute_result"
    }
   ],
   "source": [
    "eng2sp['one']"
   ]
  },
  {
   "cell_type": "code",
   "execution_count": 15,
   "metadata": {},
   "outputs": [
    {
     "data": {
      "text/plain": [
       "200"
      ]
     },
     "execution_count": 15,
     "metadata": {},
     "output_type": "execute_result"
    }
   ],
   "source": [
    "d['key']"
   ]
  },
  {
   "cell_type": "code",
   "execution_count": null,
   "metadata": {},
   "outputs": [],
   "source": []
  },
  {
   "cell_type": "code",
   "execution_count": null,
   "metadata": {},
   "outputs": [],
   "source": []
  },
  {
   "cell_type": "markdown",
   "metadata": {},
   "source": [
    "### Slicing a dictionary"
   ]
  },
  {
   "cell_type": "code",
   "execution_count": null,
   "metadata": {},
   "outputs": [],
   "source": [
    "eng2sp"
   ]
  },
  {
   "cell_type": "code",
   "execution_count": 16,
   "metadata": {},
   "outputs": [
    {
     "name": "stdout",
     "output_type": "stream",
     "text": [
      "uno\n",
      "tres\n"
     ]
    }
   ],
   "source": [
    "for i in ['one','three']:\n",
    "    print(eng2sp[i])"
   ]
  },
  {
   "cell_type": "code",
   "execution_count": 18,
   "metadata": {},
   "outputs": [
    {
     "name": "stdout",
     "output_type": "stream",
     "text": [
      "{'three': 'tres', 'one': 'uno'}\n"
     ]
    }
   ],
   "source": [
    "dic={}\n",
    "dic=dict()\n",
    "for i in ['one','three']:\n",
    "    dic[i]=eng2sp[i]\n",
    "print(dic)"
   ]
  },
  {
   "cell_type": "code",
   "execution_count": 19,
   "metadata": {},
   "outputs": [
    {
     "data": {
      "text/plain": [
       "{1.9: 'one point nine', 5: 25, 'add': 'new element', 'key': 200}"
      ]
     },
     "execution_count": 19,
     "metadata": {},
     "output_type": "execute_result"
    }
   ],
   "source": [
    "d['add']='new element'\n",
    "d"
   ]
  },
  {
   "cell_type": "code",
   "execution_count": 20,
   "metadata": {},
   "outputs": [
    {
     "ename": "IndexError",
     "evalue": "list assignment index out of range",
     "output_type": "error",
     "traceback": [
      "\u001b[1;31m---------------------------------------------------------------------------\u001b[0m",
      "\u001b[1;31mIndexError\u001b[0m                                Traceback (most recent call last)",
      "\u001b[1;32m<ipython-input-20-b729fc7af5c7>\u001b[0m in \u001b[0;36m<module>\u001b[1;34m()\u001b[0m\n\u001b[0;32m      1\u001b[0m \u001b[0ma\u001b[0m\u001b[1;33m=\u001b[0m\u001b[1;33m[\u001b[0m\u001b[1;33m]\u001b[0m\u001b[1;33m\u001b[0m\u001b[0m\n\u001b[0;32m      2\u001b[0m \u001b[1;32mfor\u001b[0m \u001b[0mi\u001b[0m \u001b[1;32min\u001b[0m \u001b[0mrange\u001b[0m\u001b[1;33m(\u001b[0m\u001b[1;36m0\u001b[0m\u001b[1;33m,\u001b[0m\u001b[1;36m4\u001b[0m\u001b[1;33m)\u001b[0m\u001b[1;33m:\u001b[0m\u001b[1;33m\u001b[0m\u001b[0m\n\u001b[1;32m----> 3\u001b[1;33m     \u001b[0ma\u001b[0m\u001b[1;33m[\u001b[0m\u001b[0mi\u001b[0m\u001b[1;33m]\u001b[0m\u001b[1;33m=\u001b[0m\u001b[0mi\u001b[0m\u001b[1;33m\u001b[0m\u001b[0m\n\u001b[0m",
      "\u001b[1;31mIndexError\u001b[0m: list assignment index out of range"
     ]
    }
   ],
   "source": [
    "#does not work for lists\n",
    "a=[]\n",
    "for i in range(0,4):\n",
    "    a[i]=i"
   ]
  },
  {
   "cell_type": "markdown",
   "metadata": {},
   "source": [
    "### Adding Key-Value in a dictionary"
   ]
  },
  {
   "cell_type": "code",
   "execution_count": null,
   "metadata": {},
   "outputs": [],
   "source": []
  },
  {
   "cell_type": "code",
   "execution_count": null,
   "metadata": {},
   "outputs": [],
   "source": []
  },
  {
   "cell_type": "markdown",
   "metadata": {},
   "source": [
    "### in Operator for Dictionary"
   ]
  },
  {
   "cell_type": "markdown",
   "metadata": {},
   "source": [
    "The in operator works on dictionaries; it tells you whether something appears as a key in the dictionary"
   ]
  },
  {
   "cell_type": "code",
   "execution_count": 21,
   "metadata": {},
   "outputs": [
    {
     "data": {
      "text/plain": [
       "True"
      ]
     },
     "execution_count": 21,
     "metadata": {},
     "output_type": "execute_result"
    }
   ],
   "source": [
    "'one' in eng2sp"
   ]
  },
  {
   "cell_type": "code",
   "execution_count": 22,
   "metadata": {},
   "outputs": [
    {
     "data": {
      "text/plain": [
       "False"
      ]
     },
     "execution_count": 22,
     "metadata": {},
     "output_type": "execute_result"
    }
   ],
   "source": [
    "'uno' in eng2sp"
   ]
  },
  {
   "cell_type": "markdown",
   "metadata": {},
   "source": [
    "### Counting the Frequency Distribution of Letters in a Word"
   ]
  },
  {
   "cell_type": "code",
   "execution_count": 6,
   "metadata": {},
   "outputs": [
    {
     "name": "stdout",
     "output_type": "stream",
     "text": [
      "{'b': 1}\n",
      "{'a': 1, 'b': 1}\n",
      "{'a': 1, 'b': 1, 'n': 1}\n",
      "{'a': 2, 'b': 1, 'n': 1}\n",
      "{'a': 2, 'b': 1, 'n': 2}\n",
      "{'a': 3, 'b': 1, 'n': 2}\n",
      "{'a': 3, 'b': 1, 'n': 2}\n"
     ]
    }
   ],
   "source": [
    "#Frequency distriution of the letters in 'banana'\n",
    "\n",
    "dic=dict()\n",
    "st='banana'\n",
    "for letter in st:\n",
    "    if letter not in dic:\n",
    "        dic[letter]=1\n",
    "    else:\n",
    "        dic[letter]+=1\n",
    "    print(dic)\n",
    "print(dic)\n",
    "\n"
   ]
  },
  {
   "cell_type": "markdown",
   "metadata": {},
   "source": [
    "**The 'get' method for dictionary**"
   ]
  },
  {
   "cell_type": "markdown",
   "metadata": {},
   "source": [
    " Dictionaries have a method called get that takes a key and a default value. If the key appears in the dictionary, get returns the corresponding value; otherwise it returns the default value. "
   ]
  },
  {
   "cell_type": "code",
   "execution_count": 14,
   "metadata": {},
   "outputs": [
    {
     "data": {
      "text/plain": [
       "'uno'"
      ]
     },
     "execution_count": 14,
     "metadata": {},
     "output_type": "execute_result"
    }
   ],
   "source": [
    "eng2sp = {'one': 'uno', 'two': 'dos', 'three': 'tres'}\n",
    "eng2sp.get('one')"
   ]
  },
  {
   "cell_type": "code",
   "execution_count": 12,
   "metadata": {},
   "outputs": [
    {
     "name": "stdout",
     "output_type": "stream",
     "text": [
      "{'b': 1}\n",
      "{'a': 1, 'b': 1}\n",
      "{'a': 1, 'b': 1, 'n': 1}\n",
      "{'a': 2, 'b': 1, 'n': 1}\n",
      "{'a': 2, 'b': 1, 'n': 2}\n",
      "{'a': 3, 'b': 1, 'n': 2}\n",
      "{'a': 3, 'b': 1, 'n': 2}\n"
     ]
    }
   ],
   "source": [
    "count={}\n",
    "st='banana'\n",
    "for i in st:\n",
    "    count[i]=count.get(i,0)+1\n",
    "    print(count)\n",
    "print(count)"
   ]
  },
  {
   "cell_type": "markdown",
   "metadata": {},
   "source": [
    "**Making the counting simple using the 'get' method**"
   ]
  },
  {
   "cell_type": "code",
   "execution_count": null,
   "metadata": {},
   "outputs": [],
   "source": []
  },
  {
   "cell_type": "markdown",
   "metadata": {},
   "source": [
    "### A Common Use of Dictionaries"
   ]
  },
  {
   "cell_type": "markdown",
   "metadata": {
    "collapsed": true
   },
   "source": [
    "One of the common uses of a dictionary is to count the occurrence of words in a ﬁle with some written text."
   ]
  },
  {
   "cell_type": "code",
   "execution_count": 16,
   "metadata": {},
   "outputs": [
    {
     "data": {
      "text/plain": [
       "<open file 'Ashop1.txt', mode 'r' at 0x0000000004D0AD20>"
      ]
     },
     "execution_count": 16,
     "metadata": {},
     "output_type": "execute_result"
    }
   ],
   "source": [
    "#Exercise: Read the Ashop1.txt file\n",
    "import os\n",
    "ashop1 = open('Ashop1.txt')\n",
    "\n",
    "\n",
    "\n"
   ]
  },
  {
   "cell_type": "code",
   "execution_count": 32,
   "metadata": {},
   "outputs": [
    {
     "name": "stdout",
     "output_type": "stream",
     "text": [
      "{'and': 3, 'among': 1, 'What': 1, 'would': 1, 'rooted': 1, 'suddenly': 1, 'had': 1, 'Cock': 2, 'soon': 1, 'down': 1, 'Pearl': 2, 'single': 1, 'Master': 1, 'something': 1, 'a': 4, 'in': 1, 'I': 1, 'You': 1, 'pearls': 1, 'hens': 1, 'out': 2, 'are': 1, 'from': 1, 'beneath': 1, 'for': 3, 'to': 2, 'rather': 1, 'espied': 1, 'treasure': 1, 'when': 1, 'been': 1, 'by': 1, 'straw': 2, 'of': 1, 'Ho': 1, 'Precious': 1, 'was': 1, 'A': 1, 'be': 2, 'them': 1, 'you,': 1, 'quoth': 2, 'than': 1, 'that': 3, 'may': 1, 'some': 1, 'men': 1, 'but': 2, 'it': 2, 'chance': 1, 'ho': 1, 'The': 1, 'peck': 1, 'farmyard': 1, 'the': 6, 'those': 1, 'he': 2, 'me': 2, 'yard': 1, 'prize': 2, 'lost': 1, 'things': 1, 'did': 1, 'amid': 1, 'up': 1, 'strutting': 1, 'turn': 1, 'can': 1, 'have': 1, 'barley-corn': 1, 'shinning': 1, 'thats': 1, 'cock': 1, 'once': 1}\n",
      "['A', 'Cock', 'Ho', 'I', 'Master', 'Pearl', 'Precious', 'The', 'What', 'You', 'a', 'amid', 'among', 'and', 'are', 'barley-corn', 'be', 'been', 'beneath', 'but', 'by', 'can', 'chance', 'cock', 'did', 'down', 'espied', 'farmyard', 'for', 'from', 'had', 'have', 'he', 'hens', 'ho', 'in', 'it', 'lost', 'may', 'me', 'men', 'of', 'once', 'out', 'pearls', 'peck', 'prize', 'quoth', 'rather', 'rooted', 'shinning', 'single', 'some', 'something', 'soon', 'straw', 'strutting', 'suddenly', 'than', 'that', 'thats', 'the', 'them', 'things', 'those', 'to', 'treasure', 'turn', 'up', 'was', 'when', 'would', 'yard', 'you,']\n"
     ]
    }
   ],
   "source": [
    "ashop1 = open('Ashop1.txt')\n",
    "dicti=dict()\n",
    "for i in ashop1:\n",
    "    li=i.split()\n",
    "    for j in li:\n",
    "        if j not in dicti:\n",
    "            dicti[j]=1\n",
    "        else:\n",
    "            dicti[j]+=1  \n",
    "print(dicti)\n",
    "print(sorted(dicti.keys()))\n"
   ]
  },
  {
   "cell_type": "code",
   "execution_count": null,
   "metadata": {},
   "outputs": [],
   "source": [
    "Ashop1 count the distribution of words"
   ]
  },
  {
   "cell_type": "code",
   "execution_count": 28,
   "metadata": {},
   "outputs": [
    {
     "name": "stdout",
     "output_type": "stream",
     "text": [
      "['A', 'Cock', 'Ho', 'I', 'Master', 'Pearl', 'Precious', 'The', 'What', 'You', 'a', 'amid', 'among', 'and', 'are', 'barley-corn', 'be', 'been', 'beneath', 'but', 'by', 'can', 'chance', 'cock', 'did', 'down', 'espied', 'farmyard', 'for', 'from', 'had', 'have', 'he', 'hens', 'ho', 'in', 'it', 'lost', 'may', 'me', 'men', 'of', 'once', 'out', 'pearls', 'peck', 'prize', 'quoth', 'rather', 'rooted', 'shinning', 'single', 'some', 'something', 'soon', 'straw', 'strutting', 'suddenly', 'than', 'that', 'thats', 'the', 'them', 'things', 'those', 'to', 'treasure', 'turn', 'up', 'was', 'when', 'would', 'yard', 'you,']\n"
     ]
    }
   ],
   "source": [
    "ashop1 = open('Ashop1.txt')\n",
    "dicti=dict()\n",
    "for i in ashop1:\n",
    "    li=i.split()\n",
    "    for j in li:\n",
    "        if j not in dicti:\n",
    "            dicti[j]=1\n",
    "        else:\n",
    "            dicti[j]+=1  \n",
    "lis=[]\n",
    "for i in sorted (dicti.keys()):\n",
    "    lis.append(i)\n",
    "print(lis)\n",
    "    \n"
   ]
  },
  {
   "cell_type": "markdown",
   "metadata": {},
   "source": [
    "**Exercise:** Find the frequency distribution of the of the words present in this file. \n",
    "\n",
    "*(A hint is given at the bottom. Look at it only if you are no more able to figure out how to do it)*"
   ]
  },
  {
   "cell_type": "code",
   "execution_count": null,
   "metadata": {},
   "outputs": [],
   "source": [
    "#Printing properly\n"
   ]
  },
  {
   "cell_type": "markdown",
   "metadata": {},
   "source": [
    "Note: The printing is not in any particular order"
   ]
  },
  {
   "cell_type": "code",
   "execution_count": null,
   "metadata": {},
   "outputs": [],
   "source": [
    "#Printing words with count greater than or equal to 2\n"
   ]
  },
  {
   "cell_type": "code",
   "execution_count": null,
   "metadata": {},
   "outputs": [],
   "source": [
    "#Printing keys in alphabetical order:\n",
    "\n",
    "#But before that....\n",
    "#Method keys - makes a dict of keys\n"
   ]
  },
  {
   "cell_type": "code",
   "execution_count": 1,
   "metadata": {},
   "outputs": [
    {
     "data": {
      "text/plain": [
       "{'a': 5,\n",
       " 'amid': 1,\n",
       " 'among': 1,\n",
       " 'and': 3,\n",
       " 'are': 1,\n",
       " 'barley-corn': 1,\n",
       " 'be': 2,\n",
       " 'been': 1,\n",
       " 'beneath': 1,\n",
       " 'but': 2,\n",
       " 'by': 1,\n",
       " 'can': 1,\n",
       " 'chance': 1,\n",
       " 'cock': 3,\n",
       " 'did': 1,\n",
       " 'down': 1,\n",
       " 'espied': 1,\n",
       " 'farmyard': 1,\n",
       " 'for': 3,\n",
       " 'from': 1,\n",
       " 'had': 1,\n",
       " 'have': 1,\n",
       " 'he': 2,\n",
       " 'hens': 1,\n",
       " 'ho': 2,\n",
       " 'i': 1,\n",
       " 'in': 1,\n",
       " 'it': 2,\n",
       " 'lost': 1,\n",
       " 'master': 1,\n",
       " 'may': 1,\n",
       " 'me': 2,\n",
       " 'men': 1,\n",
       " 'of': 1,\n",
       " 'once': 1,\n",
       " 'out': 2,\n",
       " 'pearl': 2,\n",
       " 'pearls': 1,\n",
       " 'peck': 1,\n",
       " 'precious': 1,\n",
       " 'prize': 2,\n",
       " 'quoth': 2,\n",
       " 'rather': 1,\n",
       " 'rooted': 1,\n",
       " 'shinning': 1,\n",
       " 'single': 1,\n",
       " 'some': 1,\n",
       " 'something': 1,\n",
       " 'soon': 1,\n",
       " 'straw': 2,\n",
       " 'strutting': 1,\n",
       " 'suddenly': 1,\n",
       " 'than': 1,\n",
       " 'that': 3,\n",
       " 'thats': 1,\n",
       " 'the': 7,\n",
       " 'them': 1,\n",
       " 'things': 1,\n",
       " 'those': 1,\n",
       " 'to': 2,\n",
       " 'treasure': 1,\n",
       " 'turn': 1,\n",
       " 'up': 1,\n",
       " 'was': 1,\n",
       " 'what': 1,\n",
       " 'when': 1,\n",
       " 'would': 1,\n",
       " 'yard': 1,\n",
       " 'you': 1,\n",
       " 'you,': 1}"
      ]
     },
     "execution_count": 1,
     "metadata": {},
     "output_type": "execute_result"
    }
   ],
   "source": [
    "ashop1 = open('Ashop1.txt')\n",
    "d=dict()\n",
    "for line in ashop1:\n",
    "    line=line.lower()\n",
    "    words=line.split()\n",
    "    for word in words:\n",
    "        d[word]=d.get(word,0)+1\n",
    "d"
   ]
  },
  {
   "cell_type": "code",
   "execution_count": null,
   "metadata": {},
   "outputs": [],
   "source": []
  },
  {
   "cell_type": "code",
   "execution_count": null,
   "metadata": {},
   "outputs": [],
   "source": []
  },
  {
   "cell_type": "code",
   "execution_count": null,
   "metadata": {},
   "outputs": [],
   "source": []
  },
  {
   "cell_type": "markdown",
   "metadata": {},
   "source": [
    "### Advanced Text Parsing"
   ]
  },
  {
   "cell_type": "markdown",
   "metadata": {
    "collapsed": true
   },
   "source": [
    "The actual text for this particular Ashop's fable is given in the file Ashop.txt. The actual file has lots of punctuations. We should also take care of the case sensitivity."
   ]
  },
  {
   "cell_type": "code",
   "execution_count": null,
   "metadata": {},
   "outputs": [],
   "source": [
    "#Before we do so lets look at some other thing.\n",
    "\n",
    "#1. punctuation\n",
    "import string\n",
    "p = string.punctuation\n",
    "p"
   ]
  },
  {
   "cell_type": "code",
   "execution_count": null,
   "metadata": {},
   "outputs": [],
   "source": [
    "#2. translate method for string\n",
    "# str.maketrans()\n",
    "\n",
    "#This uses the 3-argument version of str.maketrans with arguments (x, y, z) where 'x' and 'y'\n",
    "# must be equal-length strings and characters in 'x' are replaced by characters in 'y'. 'z'\n",
    "# is a string (string.punctuation here) where each character in the string is mapped to None\n",
    "\n"
   ]
  },
  {
   "cell_type": "code",
   "execution_count": null,
   "metadata": {},
   "outputs": [],
   "source": []
  },
  {
   "cell_type": "code",
   "execution_count": null,
   "metadata": {},
   "outputs": [],
   "source": []
  },
  {
   "cell_type": "code",
   "execution_count": null,
   "metadata": {},
   "outputs": [],
   "source": []
  },
  {
   "cell_type": "code",
   "execution_count": null,
   "metadata": {},
   "outputs": [],
   "source": []
  },
  {
   "cell_type": "code",
   "execution_count": null,
   "metadata": {},
   "outputs": [],
   "source": []
  },
  {
   "cell_type": "markdown",
   "metadata": {
    "collapsed": true
   },
   "source": [
    "### Further Problems"
   ]
  },
  {
   "cell_type": "markdown",
   "metadata": {},
   "source": [
    "**Problem 1**\n",
    "\n",
    "Write a program that categorizes each mail message by which day of the week the commit was done.\n",
    "\n",
    "    Sample Line: \n",
    "    From stephen.marquard@uct.ac.za Sat Jan 5 09:14:16 2008\n",
    "\n",
    "    Sample Execution: \n",
    "    python dow.py \n",
    "    Enter a file name: mbox-short.txt \n",
    "    {'Fri': 20, 'Thu': 6, 'Sat': 1}"
   ]
  },
  {
   "cell_type": "code",
   "execution_count": null,
   "metadata": {},
   "outputs": [],
   "source": [
    "import os\n",
    "os.chdir(\"C:\\\\Users\\\\Gourab\\\\Downloads\")"
   ]
  },
  {
   "cell_type": "code",
   "execution_count": null,
   "metadata": {},
   "outputs": [],
   "source": [
    "fhand = open('mbox.txt')\n"
   ]
  },
  {
   "cell_type": "markdown",
   "metadata": {},
   "source": [
    "**Problem 2**\n",
    "\n",
    "From where did they receive most of their messages\n",
    "\n",
    "    Enter a file name: mbox.txt \n",
    "    zqian@umich.edu 195"
   ]
  },
  {
   "cell_type": "code",
   "execution_count": null,
   "metadata": {},
   "outputs": [],
   "source": []
  },
  {
   "cell_type": "markdown",
   "metadata": {
    "collapsed": true
   },
   "source": [
    "**Problem 3**\n",
    "\n",
    "Write a program to record the domain name (instead of the address) where the message was sent from instead of who the mail came from (i.e. the whole e-mail address). At the end of the program print out the contents of your dictionary."
   ]
  },
  {
   "cell_type": "code",
   "execution_count": null,
   "metadata": {},
   "outputs": [],
   "source": []
  }
 ],
 "metadata": {
  "kernelspec": {
   "display_name": "Python 2",
   "language": "python",
   "name": "python2"
  },
  "language_info": {
   "codemirror_mode": {
    "name": "ipython",
    "version": 2
   },
   "file_extension": ".py",
   "mimetype": "text/x-python",
   "name": "python",
   "nbconvert_exporter": "python",
   "pygments_lexer": "ipython2",
   "version": "2.7.16"
  }
 },
 "nbformat": 4,
 "nbformat_minor": 2
}
