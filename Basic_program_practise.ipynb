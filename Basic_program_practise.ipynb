{
 "cells": [
  {
   "cell_type": "markdown",
   "metadata": {},
   "source": [
    "factorial of a number"
   ]
  },
  {
   "cell_type": "code",
   "execution_count": null,
   "metadata": {},
   "outputs": [],
   "source": [
    "Fact=1\n",
    "num=int(raw_input(\"Enter the number \"))\n",
    "for i in range(1,num+1):\n",
    "    Fact=Fact*i\n",
    "print(\"Factorial of %d is %d \"%(num,Fact))"
   ]
  },
  {
   "cell_type": "code",
   "execution_count": null,
   "metadata": {},
   "outputs": [],
   "source": [
    "    \n",
    "    "
   ]
  },
  {
   "cell_type": "code",
   "execution_count": 5,
   "metadata": {},
   "outputs": [
    {
     "name": "stdout",
     "output_type": "stream",
     "text": [
      "Enter the number of terms5\n",
      "0\n",
      "1\n",
      "1\n",
      "2\n",
      "3\n"
     ]
    }
   ],
   "source": [
    "number=int(raw_input(\"Enter the number of terms\"))\n",
    "count=0\n",
    "first_value=0\n",
    "second_value=1\n",
    "while count< number:\n",
    "    if (count<=1):\n",
    "        Next=count\n",
    "    else:\n",
    "        Next=first_value+second_value\n",
    "        first_value=second_value\n",
    "        second_value=Next\n",
    "    print(Next)\n",
    "    count+=1"
   ]
  }
 ],
 "metadata": {
  "kernelspec": {
   "display_name": "Python 2",
   "language": "python",
   "name": "python2"
  },
  "language_info": {
   "codemirror_mode": {
    "name": "ipython",
    "version": 2
   },
   "file_extension": ".py",
   "mimetype": "text/x-python",
   "name": "python",
   "nbconvert_exporter": "python",
   "pygments_lexer": "ipython2",
   "version": "2.7.16"
  }
 },
 "nbformat": 4,
 "nbformat_minor": 2
}
