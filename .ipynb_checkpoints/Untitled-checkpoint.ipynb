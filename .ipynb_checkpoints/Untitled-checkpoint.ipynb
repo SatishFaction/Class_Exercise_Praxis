{
 "cells": [
  {
   "cell_type": "code",
   "execution_count": null,
   "metadata": {},
   "outputs": [],
   "source": [
    "list1=[]\n",
    "count=0\n",
    "\n",
    "while 1:\n",
    "    su=0\n",
    "    count+=1\n",
    "    i=raw_input('enter the item : %d '%count)\n",
    "    if i!='done':\n",
    "        q_item=int(raw_input('enter quantity of item: '))\n",
    "        price=float(raw_input('enter price of the item:  '))\n",
    "        list1.append(i)\n",
    "        t_price=su+q_item*price\n",
    "    if i=='done':\n",
    "        print(list1)\n",
    "        print (t_price)\n",
    "        inp=raw_input('Next Customer? Yes/No')\n",
    "        if inp =='yes':\n",
    "            count=0\n",
    "            list1=[]\n",
    "            continue\n",
    "        elif inp == 'no':\n",
    "            break"
   ]
  },
  {
   "cell_type": "code",
   "execution_count": null,
   "metadata": {},
   "outputs": [],
   "source": []
  }
 ],
 "metadata": {
  "kernelspec": {
   "display_name": "Python 2",
   "language": "python",
   "name": "python2"
  },
  "language_info": {
   "codemirror_mode": {
    "name": "ipython",
    "version": 2
   },
   "file_extension": ".py",
   "mimetype": "text/x-python",
   "name": "python",
   "nbconvert_exporter": "python",
   "pygments_lexer": "ipython2",
   "version": "2.7.16"
  }
 },
 "nbformat": 4,
 "nbformat_minor": 2
}
