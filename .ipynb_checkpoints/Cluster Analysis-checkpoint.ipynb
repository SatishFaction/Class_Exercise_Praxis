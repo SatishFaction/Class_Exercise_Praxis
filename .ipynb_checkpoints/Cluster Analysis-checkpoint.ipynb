{
 "cells": [
  {
   "cell_type": "code",
   "execution_count": 2,
   "metadata": {},
   "outputs": [],
   "source": [
    "import pandas as pd\n",
    "import numpy as np\n",
    "import matplotlib.pyplot as plt"
   ]
  },
  {
   "cell_type": "code",
   "execution_count": 3,
   "metadata": {},
   "outputs": [],
   "source": [
    "T=pd.read_csv('Telco.csv')"
   ]
  },
  {
   "cell_type": "code",
   "execution_count": 4,
   "metadata": {},
   "outputs": [
    {
     "data": {
      "text/html": [
       "<div>\n",
       "<style scoped>\n",
       "    .dataframe tbody tr th:only-of-type {\n",
       "        vertical-align: middle;\n",
       "    }\n",
       "\n",
       "    .dataframe tbody tr th {\n",
       "        vertical-align: top;\n",
       "    }\n",
       "\n",
       "    .dataframe thead th {\n",
       "        text-align: right;\n",
       "    }\n",
       "</style>\n",
       "<table border=\"1\" class=\"dataframe\">\n",
       "  <thead>\n",
       "    <tr style=\"text-align: right;\">\n",
       "      <th></th>\n",
       "      <th>Calls</th>\n",
       "      <th>Intern</th>\n",
       "      <th>Text</th>\n",
       "      <th>Data</th>\n",
       "      <th>Age</th>\n",
       "    </tr>\n",
       "  </thead>\n",
       "  <tbody>\n",
       "    <tr>\n",
       "      <th>0</th>\n",
       "      <td>1.12</td>\n",
       "      <td>0.19</td>\n",
       "      <td>23.92</td>\n",
       "      <td>0.18</td>\n",
       "      <td>60</td>\n",
       "    </tr>\n",
       "    <tr>\n",
       "      <th>1</th>\n",
       "      <td>1.08</td>\n",
       "      <td>0.22</td>\n",
       "      <td>17.76</td>\n",
       "      <td>0.23</td>\n",
       "      <td>54</td>\n",
       "    </tr>\n",
       "    <tr>\n",
       "      <th>2</th>\n",
       "      <td>3.54</td>\n",
       "      <td>0.26</td>\n",
       "      <td>289.79</td>\n",
       "      <td>1.99</td>\n",
       "      <td>34</td>\n",
       "    </tr>\n",
       "    <tr>\n",
       "      <th>3</th>\n",
       "      <td>1.09</td>\n",
       "      <td>0.21</td>\n",
       "      <td>19.15</td>\n",
       "      <td>0.21</td>\n",
       "      <td>61</td>\n",
       "    </tr>\n",
       "    <tr>\n",
       "      <th>4</th>\n",
       "      <td>1.04</td>\n",
       "      <td>0.24</td>\n",
       "      <td>20.33</td>\n",
       "      <td>0.20</td>\n",
       "      <td>56</td>\n",
       "    </tr>\n",
       "  </tbody>\n",
       "</table>\n",
       "</div>"
      ],
      "text/plain": [
       "   Calls  Intern    Text  Data  Age\n",
       "0   1.12    0.19   23.92  0.18   60\n",
       "1   1.08    0.22   17.76  0.23   54\n",
       "2   3.54    0.26  289.79  1.99   34\n",
       "3   1.09    0.21   19.15  0.21   61\n",
       "4   1.04    0.24   20.33  0.20   56"
      ]
     },
     "execution_count": 4,
     "metadata": {},
     "output_type": "execute_result"
    }
   ],
   "source": [
    "T.head()"
   ]
  },
  {
   "cell_type": "code",
   "execution_count": 5,
   "metadata": {},
   "outputs": [],
   "source": [
    "T_scaled=T.apply(lambda x: (x-np.mean(x))/np.std(x))"
   ]
  },
  {
   "cell_type": "code",
   "execution_count": 6,
   "metadata": {},
   "outputs": [
    {
     "data": {
      "text/html": [
       "<div>\n",
       "<style scoped>\n",
       "    .dataframe tbody tr th:only-of-type {\n",
       "        vertical-align: middle;\n",
       "    }\n",
       "\n",
       "    .dataframe tbody tr th {\n",
       "        vertical-align: top;\n",
       "    }\n",
       "\n",
       "    .dataframe thead th {\n",
       "        text-align: right;\n",
       "    }\n",
       "</style>\n",
       "<table border=\"1\" class=\"dataframe\">\n",
       "  <thead>\n",
       "    <tr style=\"text-align: right;\">\n",
       "      <th></th>\n",
       "      <th>Calls</th>\n",
       "      <th>Intern</th>\n",
       "      <th>Text</th>\n",
       "      <th>Data</th>\n",
       "      <th>Age</th>\n",
       "    </tr>\n",
       "  </thead>\n",
       "  <tbody>\n",
       "    <tr>\n",
       "      <th>0</th>\n",
       "      <td>-0.996125</td>\n",
       "      <td>-0.569290</td>\n",
       "      <td>-0.940982</td>\n",
       "      <td>-1.299162</td>\n",
       "      <td>1.372936</td>\n",
       "    </tr>\n",
       "    <tr>\n",
       "      <th>1</th>\n",
       "      <td>-1.022513</td>\n",
       "      <td>-0.489795</td>\n",
       "      <td>-0.969806</td>\n",
       "      <td>-1.262765</td>\n",
       "      <td>1.002273</td>\n",
       "    </tr>\n",
       "    <tr>\n",
       "      <th>2</th>\n",
       "      <td>0.600387</td>\n",
       "      <td>-0.383802</td>\n",
       "      <td>0.303060</td>\n",
       "      <td>0.018380</td>\n",
       "      <td>-0.233271</td>\n",
       "    </tr>\n",
       "    <tr>\n",
       "      <th>3</th>\n",
       "      <td>-1.015916</td>\n",
       "      <td>-0.516293</td>\n",
       "      <td>-0.963302</td>\n",
       "      <td>-1.277324</td>\n",
       "      <td>1.434713</td>\n",
       "    </tr>\n",
       "    <tr>\n",
       "      <th>4</th>\n",
       "      <td>-1.048902</td>\n",
       "      <td>-0.436798</td>\n",
       "      <td>-0.957780</td>\n",
       "      <td>-1.284603</td>\n",
       "      <td>1.125827</td>\n",
       "    </tr>\n",
       "  </tbody>\n",
       "</table>\n",
       "</div>"
      ],
      "text/plain": [
       "      Calls    Intern      Text      Data       Age\n",
       "0 -0.996125 -0.569290 -0.940982 -1.299162  1.372936\n",
       "1 -1.022513 -0.489795 -0.969806 -1.262765  1.002273\n",
       "2  0.600387 -0.383802  0.303060  0.018380 -0.233271\n",
       "3 -1.015916 -0.516293 -0.963302 -1.277324  1.434713\n",
       "4 -1.048902 -0.436798 -0.957780 -1.284603  1.125827"
      ]
     },
     "execution_count": 6,
     "metadata": {},
     "output_type": "execute_result"
    }
   ],
   "source": [
    "T_scaled.head()\n"
   ]
  },
  {
   "cell_type": "code",
   "execution_count": 7,
   "metadata": {
    "scrolled": true
   },
   "outputs": [
    {
     "data": {
      "text/html": [
       "<div>\n",
       "<style scoped>\n",
       "    .dataframe tbody tr th:only-of-type {\n",
       "        vertical-align: middle;\n",
       "    }\n",
       "\n",
       "    .dataframe tbody tr th {\n",
       "        vertical-align: top;\n",
       "    }\n",
       "\n",
       "    .dataframe thead th {\n",
       "        text-align: right;\n",
       "    }\n",
       "</style>\n",
       "<table border=\"1\" class=\"dataframe\">\n",
       "  <thead>\n",
       "    <tr style=\"text-align: right;\">\n",
       "      <th></th>\n",
       "      <th>Calls</th>\n",
       "      <th>Intern</th>\n",
       "      <th>Text</th>\n",
       "      <th>Data</th>\n",
       "      <th>Age</th>\n",
       "    </tr>\n",
       "  </thead>\n",
       "  <tbody>\n",
       "    <tr>\n",
       "      <th>count</th>\n",
       "      <td>1.000000e+03</td>\n",
       "      <td>1.000000e+03</td>\n",
       "      <td>1.000000e+03</td>\n",
       "      <td>1.000000e+03</td>\n",
       "      <td>1.000000e+03</td>\n",
       "    </tr>\n",
       "    <tr>\n",
       "      <th>mean</th>\n",
       "      <td>-1.989964e-15</td>\n",
       "      <td>-2.852385e-15</td>\n",
       "      <td>1.069034e-15</td>\n",
       "      <td>-1.973387e-15</td>\n",
       "      <td>-2.446932e-16</td>\n",
       "    </tr>\n",
       "    <tr>\n",
       "      <th>std</th>\n",
       "      <td>1.000500e+00</td>\n",
       "      <td>1.000500e+00</td>\n",
       "      <td>1.000500e+00</td>\n",
       "      <td>1.000500e+00</td>\n",
       "      <td>1.000500e+00</td>\n",
       "    </tr>\n",
       "    <tr>\n",
       "      <th>min</th>\n",
       "      <td>-1.174248e+00</td>\n",
       "      <td>-8.342729e-01</td>\n",
       "      <td>-9.733149e-01</td>\n",
       "      <td>-1.306441e+00</td>\n",
       "      <td>-1.592368e+00</td>\n",
       "    </tr>\n",
       "    <tr>\n",
       "      <th>25%</th>\n",
       "      <td>-7.520297e-01</td>\n",
       "      <td>-7.812762e-01</td>\n",
       "      <td>-9.557213e-01</td>\n",
       "      <td>-1.051668e+00</td>\n",
       "      <td>-8.510422e-01</td>\n",
       "    </tr>\n",
       "    <tr>\n",
       "      <th>50%</th>\n",
       "      <td>-3.891861e-01</td>\n",
       "      <td>-4.897948e-01</td>\n",
       "      <td>-1.614142e-01</td>\n",
       "      <td>1.110083e-02</td>\n",
       "      <td>-1.714934e-01</td>\n",
       "    </tr>\n",
       "    <tr>\n",
       "      <th>75%</th>\n",
       "      <td>5.690510e-01</td>\n",
       "      <td>1.020609e+00</td>\n",
       "      <td>1.050073e+00</td>\n",
       "      <td>6.826104e-01</td>\n",
       "      <td>8.169412e-01</td>\n",
       "    </tr>\n",
       "    <tr>\n",
       "      <th>max</th>\n",
       "      <td>2.223288e+00</td>\n",
       "      <td>2.107040e+00</td>\n",
       "      <td>1.749616e+00</td>\n",
       "      <td>2.056566e+00</td>\n",
       "      <td>2.114262e+00</td>\n",
       "    </tr>\n",
       "  </tbody>\n",
       "</table>\n",
       "</div>"
      ],
      "text/plain": [
       "              Calls        Intern          Text          Data           Age\n",
       "count  1.000000e+03  1.000000e+03  1.000000e+03  1.000000e+03  1.000000e+03\n",
       "mean  -1.989964e-15 -2.852385e-15  1.069034e-15 -1.973387e-15 -2.446932e-16\n",
       "std    1.000500e+00  1.000500e+00  1.000500e+00  1.000500e+00  1.000500e+00\n",
       "min   -1.174248e+00 -8.342729e-01 -9.733149e-01 -1.306441e+00 -1.592368e+00\n",
       "25%   -7.520297e-01 -7.812762e-01 -9.557213e-01 -1.051668e+00 -8.510422e-01\n",
       "50%   -3.891861e-01 -4.897948e-01 -1.614142e-01  1.110083e-02 -1.714934e-01\n",
       "75%    5.690510e-01  1.020609e+00  1.050073e+00  6.826104e-01  8.169412e-01\n",
       "max    2.223288e+00  2.107040e+00  1.749616e+00  2.056566e+00  2.114262e+00"
      ]
     },
     "execution_count": 7,
     "metadata": {},
     "output_type": "execute_result"
    }
   ],
   "source": [
    "T_scaled.describe()"
   ]
  },
  {
   "cell_type": "markdown",
   "metadata": {},
   "source": [
    "### Plotting the Dendogram"
   ]
  },
  {
   "cell_type": "code",
   "execution_count": 8,
   "metadata": {},
   "outputs": [],
   "source": [
    "import scipy\n",
    "from scipy.cluster.hierarchy import dendrogram , linkage"
   ]
  },
  {
   "cell_type": "code",
   "execution_count": 9,
   "metadata": {},
   "outputs": [],
   "source": [
    "z=linkage(T_scaled, 'complete')"
   ]
  },
  {
   "cell_type": "code",
   "execution_count": 10,
   "metadata": {},
   "outputs": [
    {
     "data": {
      "image/png": "[encoded data removed]",
      "text/plain": [
       "<Figure size 432x288 with 1 Axes>"
      ]
     },
     "metadata": {
      "needs_background": "light"
     },
     "output_type": "display_data"
    }
   ],
   "source": [
    "dendrogram(z,leaf_rotation=90, leaf_font_size=5)\n",
    "plt.title(\"Dendrogram\")\n",
    "plt.xlabel(\"Cluster Size\")\n",
    "plt.ylabel(\"Distance\")\n",
    "plt.show()"
   ]
  },
  {
   "cell_type": "code",
   "execution_count": 11,
   "metadata": {},
   "outputs": [
    {
     "data": {
      "image/png": "[encoded data removed]",
      "text/plain": [
       "<Figure size 432x288 with 1 Axes>"
      ]
     },
     "metadata": {
      "needs_background": "light"
     },
     "output_type": "display_data"
    }
   ],
   "source": [
    "dendrogram(z,truncate_mode='lastp',p=20,leaf_rotation=90, leaf_font_size=15)\n",
    "plt.title(\"Truncated Dendrogram\")\n",
    "plt.xlabel(\"Cluster Size\")\n",
    "plt.ylabel(\"Distance\")\n",
    "plt.show()"
   ]
  },
  {
   "cell_type": "markdown",
   "metadata": {},
   "source": [
    "### Agglomerative Clusterring"
   ]
  },
  {
   "cell_type": "code",
   "execution_count": 12,
   "metadata": {},
   "outputs": [],
   "source": [
    "import sklearn\n",
    "from sklearn.cluster import AgglomerativeClustering"
   ]
  },
  {
   "cell_type": "code",
   "execution_count": 13,
   "metadata": {},
   "outputs": [],
   "source": [
    "clust=AgglomerativeClustering(n_clusters=5, affinity='euclidean', linkage='complete')"
   ]
  },
  {
   "cell_type": "code",
   "execution_count": 14,
   "metadata": {},
   "outputs": [
    {
     "data": {
      "text/plain": [
       "AgglomerativeClustering(affinity='euclidean', compute_full_tree='auto',\n",
       "                        connectivity=None, distance_threshold=None,\n",
       "                        linkage='complete', memory=None, n_clusters=5)"
      ]
     },
     "execution_count": 14,
     "metadata": {},
     "output_type": "execute_result"
    }
   ],
   "source": [
    "clust.fit(T_scaled)"
   ]
  },
  {
   "cell_type": "code",
   "execution_count": 28,
   "metadata": {},
   "outputs": [
    {
     "data": {
      "text/plain": [
       "'auto'"
      ]
     },
     "execution_count": 28,
     "metadata": {},
     "output_type": "execute_result"
    }
   ],
   "source": [
    "clust.compute_full_tree"
   ]
  },
  {
   "cell_type": "code",
   "execution_count": 15,
   "metadata": {},
   "outputs": [],
   "source": [
    "T['Groups']=clust.labels_"
   ]
  },
  {
   "cell_type": "code",
   "execution_count": 16,
   "metadata": {},
   "outputs": [
    {
     "data": {
      "text/html": [
       "<div>\n",
       "<style scoped>\n",
       "    .dataframe tbody tr th:only-of-type {\n",
       "        vertical-align: middle;\n",
       "    }\n",
       "\n",
       "    .dataframe tbody tr th {\n",
       "        vertical-align: top;\n",
       "    }\n",
       "\n",
       "    .dataframe thead th {\n",
       "        text-align: right;\n",
       "    }\n",
       "</style>\n",
       "<table border=\"1\" class=\"dataframe\">\n",
       "  <thead>\n",
       "    <tr style=\"text-align: right;\">\n",
       "      <th></th>\n",
       "      <th>Calls</th>\n",
       "      <th>Intern</th>\n",
       "      <th>Text</th>\n",
       "      <th>Data</th>\n",
       "      <th>Age</th>\n",
       "      <th>Groups</th>\n",
       "    </tr>\n",
       "  </thead>\n",
       "  <tbody>\n",
       "    <tr>\n",
       "      <th>0</th>\n",
       "      <td>1.12</td>\n",
       "      <td>0.19</td>\n",
       "      <td>23.92</td>\n",
       "      <td>0.18</td>\n",
       "      <td>60</td>\n",
       "      <td>3</td>\n",
       "    </tr>\n",
       "    <tr>\n",
       "      <th>1</th>\n",
       "      <td>1.08</td>\n",
       "      <td>0.22</td>\n",
       "      <td>17.76</td>\n",
       "      <td>0.23</td>\n",
       "      <td>54</td>\n",
       "      <td>3</td>\n",
       "    </tr>\n",
       "    <tr>\n",
       "      <th>2</th>\n",
       "      <td>3.54</td>\n",
       "      <td>0.26</td>\n",
       "      <td>289.79</td>\n",
       "      <td>1.99</td>\n",
       "      <td>34</td>\n",
       "      <td>4</td>\n",
       "    </tr>\n",
       "    <tr>\n",
       "      <th>3</th>\n",
       "      <td>1.09</td>\n",
       "      <td>0.21</td>\n",
       "      <td>19.15</td>\n",
       "      <td>0.21</td>\n",
       "      <td>61</td>\n",
       "      <td>3</td>\n",
       "    </tr>\n",
       "    <tr>\n",
       "      <th>4</th>\n",
       "      <td>1.04</td>\n",
       "      <td>0.24</td>\n",
       "      <td>20.33</td>\n",
       "      <td>0.20</td>\n",
       "      <td>56</td>\n",
       "      <td>3</td>\n",
       "    </tr>\n",
       "  </tbody>\n",
       "</table>\n",
       "</div>"
      ],
      "text/plain": [
       "   Calls  Intern    Text  Data  Age  Groups\n",
       "0   1.12    0.19   23.92  0.18   60       3\n",
       "1   1.08    0.22   17.76  0.23   54       3\n",
       "2   3.54    0.26  289.79  1.99   34       4\n",
       "3   1.09    0.21   19.15  0.21   61       3\n",
       "4   1.04    0.24   20.33  0.20   56       3"
      ]
     },
     "execution_count": 16,
     "metadata": {},
     "output_type": "execute_result"
    }
   ],
   "source": [
    "T.head(5)"
   ]
  },
  {
   "cell_type": "code",
   "execution_count": 17,
   "metadata": {},
   "outputs": [
    {
     "data": {
      "text/html": [
       "<div>\n",
       "<style scoped>\n",
       "    .dataframe tbody tr th:only-of-type {\n",
       "        vertical-align: middle;\n",
       "    }\n",
       "\n",
       "    .dataframe tbody tr th {\n",
       "        vertical-align: top;\n",
       "    }\n",
       "\n",
       "    .dataframe thead th {\n",
       "        text-align: right;\n",
       "    }\n",
       "</style>\n",
       "<table border=\"1\" class=\"dataframe\">\n",
       "  <thead>\n",
       "    <tr style=\"text-align: right;\">\n",
       "      <th></th>\n",
       "      <th>Calls</th>\n",
       "      <th>Intern</th>\n",
       "      <th>Text</th>\n",
       "      <th>Data</th>\n",
       "      <th>Age</th>\n",
       "    </tr>\n",
       "    <tr>\n",
       "      <th>Groups</th>\n",
       "      <th></th>\n",
       "      <th></th>\n",
       "      <th></th>\n",
       "      <th></th>\n",
       "      <th></th>\n",
       "    </tr>\n",
       "  </thead>\n",
       "  <tbody>\n",
       "    <tr>\n",
       "      <th>0</th>\n",
       "      <td>4.472227</td>\n",
       "      <td>1.010486</td>\n",
       "      <td>82.832146</td>\n",
       "      <td>2.009190</td>\n",
       "      <td>43.149798</td>\n",
       "    </tr>\n",
       "    <tr>\n",
       "      <th>1</th>\n",
       "      <td>4.700400</td>\n",
       "      <td>0.432400</td>\n",
       "      <td>376.350800</td>\n",
       "      <td>1.545600</td>\n",
       "      <td>46.120000</td>\n",
       "    </tr>\n",
       "    <tr>\n",
       "      <th>2</th>\n",
       "      <td>1.763410</td>\n",
       "      <td>0.131456</td>\n",
       "      <td>507.732146</td>\n",
       "      <td>3.731073</td>\n",
       "      <td>19.003831</td>\n",
       "    </tr>\n",
       "    <tr>\n",
       "      <th>3</th>\n",
       "      <td>1.068846</td>\n",
       "      <td>0.238702</td>\n",
       "      <td>45.874567</td>\n",
       "      <td>0.355288</td>\n",
       "      <td>60.610577</td>\n",
       "    </tr>\n",
       "    <tr>\n",
       "      <th>4</th>\n",
       "      <td>2.800039</td>\n",
       "      <td>0.233514</td>\n",
       "      <td>204.993282</td>\n",
       "      <td>1.475405</td>\n",
       "      <td>32.424710</td>\n",
       "    </tr>\n",
       "  </tbody>\n",
       "</table>\n",
       "</div>"
      ],
      "text/plain": [
       "           Calls    Intern        Text      Data        Age\n",
       "Groups                                                     \n",
       "0       4.472227  1.010486   82.832146  2.009190  43.149798\n",
       "1       4.700400  0.432400  376.350800  1.545600  46.120000\n",
       "2       1.763410  0.131456  507.732146  3.731073  19.003831\n",
       "3       1.068846  0.238702   45.874567  0.355288  60.610577\n",
       "4       2.800039  0.233514  204.993282  1.475405  32.424710"
      ]
     },
     "execution_count": 17,
     "metadata": {},
     "output_type": "execute_result"
    }
   ],
   "source": [
    "T.groupby(['Groups']).mean()"
   ]
  },
  {
   "cell_type": "markdown",
   "metadata": {},
   "source": [
    "### K Means Clustering "
   ]
  },
  {
   "cell_type": "code",
   "execution_count": 18,
   "metadata": {},
   "outputs": [],
   "source": [
    "from sklearn.cluster import KMeans"
   ]
  },
  {
   "cell_type": "code",
   "execution_count": 45,
   "metadata": {},
   "outputs": [],
   "source": [
    "km=KMeans(n_clusters=5, n_init=40)"
   ]
  },
  {
   "cell_type": "code",
   "execution_count": 46,
   "metadata": {},
   "outputs": [
    {
     "data": {
      "text/plain": [
       "KMeans(algorithm='auto', copy_x=True, init='k-means++', max_iter=300,\n",
       "       n_clusters=5, n_init=40, n_jobs=None, precompute_distances='auto',\n",
       "       random_state=None, tol=0.0001, verbose=0)"
      ]
     },
     "execution_count": 46,
     "metadata": {},
     "output_type": "execute_result"
    }
   ],
   "source": [
    "km.fit(T_scaled)"
   ]
  },
  {
   "cell_type": "code",
   "execution_count": 47,
   "metadata": {},
   "outputs": [],
   "source": [
    "#km.labels_\n",
    "T1=pd.read_csv('Telco.csv')"
   ]
  },
  {
   "cell_type": "code",
   "execution_count": 48,
   "metadata": {},
   "outputs": [],
   "source": [
    "T1['Clusters']=km.labels_"
   ]
  },
  {
   "cell_type": "code",
   "execution_count": 49,
   "metadata": {},
   "outputs": [
    {
     "data": {
      "text/html": [
       "<div>\n",
       "<style scoped>\n",
       "    .dataframe tbody tr th:only-of-type {\n",
       "        vertical-align: middle;\n",
       "    }\n",
       "\n",
       "    .dataframe tbody tr th {\n",
       "        vertical-align: top;\n",
       "    }\n",
       "\n",
       "    .dataframe thead th {\n",
       "        text-align: right;\n",
       "    }\n",
       "</style>\n",
       "<table border=\"1\" class=\"dataframe\">\n",
       "  <thead>\n",
       "    <tr style=\"text-align: right;\">\n",
       "      <th></th>\n",
       "      <th>Calls</th>\n",
       "      <th>Intern</th>\n",
       "      <th>Text</th>\n",
       "      <th>Data</th>\n",
       "      <th>Age</th>\n",
       "    </tr>\n",
       "    <tr>\n",
       "      <th>Clusters</th>\n",
       "      <th></th>\n",
       "      <th></th>\n",
       "      <th></th>\n",
       "      <th></th>\n",
       "      <th></th>\n",
       "    </tr>\n",
       "  </thead>\n",
       "  <tbody>\n",
       "    <tr>\n",
       "      <th>0</th>\n",
       "      <td>1.710430</td>\n",
       "      <td>0.110859</td>\n",
       "      <td>509.621641</td>\n",
       "      <td>3.731875</td>\n",
       "      <td>18.949219</td>\n",
       "    </tr>\n",
       "    <tr>\n",
       "      <th>1</th>\n",
       "      <td>2.319892</td>\n",
       "      <td>0.106559</td>\n",
       "      <td>22.398602</td>\n",
       "      <td>0.522366</td>\n",
       "      <td>35.548387</td>\n",
       "    </tr>\n",
       "    <tr>\n",
       "      <th>2</th>\n",
       "      <td>5.042850</td>\n",
       "      <td>1.012367</td>\n",
       "      <td>49.653140</td>\n",
       "      <td>2.072705</td>\n",
       "      <td>45.294686</td>\n",
       "    </tr>\n",
       "    <tr>\n",
       "      <th>3</th>\n",
       "      <td>2.966475</td>\n",
       "      <td>0.470328</td>\n",
       "      <td>315.840492</td>\n",
       "      <td>1.974959</td>\n",
       "      <td>33.155738</td>\n",
       "    </tr>\n",
       "    <tr>\n",
       "      <th>4</th>\n",
       "      <td>1.043100</td>\n",
       "      <td>0.211150</td>\n",
       "      <td>25.660400</td>\n",
       "      <td>0.249350</td>\n",
       "      <td>60.765000</td>\n",
       "    </tr>\n",
       "  </tbody>\n",
       "</table>\n",
       "</div>"
      ],
      "text/plain": [
       "             Calls    Intern        Text      Data        Age\n",
       "Clusters                                                     \n",
       "0         1.710430  0.110859  509.621641  3.731875  18.949219\n",
       "1         2.319892  0.106559   22.398602  0.522366  35.548387\n",
       "2         5.042850  1.012367   49.653140  2.072705  45.294686\n",
       "3         2.966475  0.470328  315.840492  1.974959  33.155738\n",
       "4         1.043100  0.211150   25.660400  0.249350  60.765000"
      ]
     },
     "execution_count": 49,
     "metadata": {},
     "output_type": "execute_result"
    }
   ],
   "source": [
    "T1.groupby(['Clusters']).mean()"
   ]
  },
  {
   "cell_type": "markdown",
   "metadata": {},
   "source": [
    "Kmeans\n",
    "\n",
    "\tCalls\tIntern\tText\tData\tAge\n",
    "Clusters\t\t\t\t\t\n",
    "0\t1.710430\t0.110859\t509.621641\t3.731875\t18.949219\n",
    "1\t2.319892\t0.106559\t22.398602\t0.522366\t35.548387\n",
    "2\t5.042850\t1.012367\t49.653140\t2.072705\t45.294686\n",
    "3\t2.966475\t0.470328\t315.840492\t1.974959\t33.155738\n",
    "4\t1.043100\t0.211150\t25.660400\t0.249350\t60.765000\n",
    "\n",
    "\n",
    "Agglomerative\n",
    "\n",
    "                Calls\tIntern Text\tData\tAge\n",
    "Groups\t\t\t\t\t\n",
    "0\t4.472227\t1.010486\t82.832146\t2.009190\t43.149798\n",
    "1\t4.700400\t0.432400\t376.350800\t1.545600\t46.120000\n",
    "2\t1.763410\t0.131456\t507.732146\t3.731073\t19.003831\n",
    "3\t1.068846\t0.238702\t45.874567\t0.355288\t60.610577\n",
    "4\t2.800039\t0.233514\t204.993282\t1.475405\t32.424710"
   ]
  },
  {
   "cell_type": "code",
   "execution_count": 22,
   "metadata": {},
   "outputs": [
    {
     "data": {
      "text/plain": [
       "785.9308775068455"
      ]
     },
     "execution_count": 22,
     "metadata": {},
     "output_type": "execute_result"
    }
   ],
   "source": [
    "#winthin group SSE\n",
    "km.inertia_"
   ]
  },
  {
   "cell_type": "code",
   "execution_count": 23,
   "metadata": {},
   "outputs": [],
   "source": [
    "#calculating winthin group SSE for different cluster solutions\n",
    "inertias= []\n",
    "for k in [2,3,4,5,6,7]:\n",
    "    km=KMeans(n_clusters=k,n_init=40)\n",
    "    inertia=km.fit(T_scaled).inertia_\n",
    "    inertias.append(inertia)"
   ]
  },
  {
   "cell_type": "code",
   "execution_count": 24,
   "metadata": {},
   "outputs": [
    {
     "data": {
      "image/png": "[encoded data removed]",
      "text/plain": [
       "<Figure size 432x288 with 1 Axes>"
      ]
     },
     "metadata": {
      "needs_background": "light"
     },
     "output_type": "display_data"
    }
   ],
   "source": [
    "plt.plot([2,3,4,5,6,7], inertias)\n",
    "plt.show()"
   ]
  }
 ],
 "metadata": {
  "kernelspec": {
   "display_name": "Python 3",
   "language": "python",
   "name": "python3"
  },
  "language_info": {
   "codemirror_mode": {
    "name": "ipython",
    "version": 3
   },
   "file_extension": ".py",
   "mimetype": "text/x-python",
   "name": "python",
   "nbconvert_exporter": "python",
   "pygments_lexer": "ipython3",
   "version": "3.7.6"
  }
 },
 "nbformat": 4,
 "nbformat_minor": 4
}
